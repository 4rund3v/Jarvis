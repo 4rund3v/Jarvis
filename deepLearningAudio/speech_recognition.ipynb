{
 "cells": [
  {
   "cell_type": "code",
   "execution_count": null,
   "metadata": {},
   "outputs": [],
   "source": [
    "## Running deep speech transcriber"
   ]
  },
  {
   "cell_type": "code",
   "execution_count": 1,
   "metadata": {},
   "outputs": [
    {
     "name": "stderr",
     "output_type": "stream",
     "text": [
      "/home/arun/Jarvis/.venv/lib/python3.6/site-packages/pandas/compat/__init__.py:120: UserWarning: Could not import the lzma module. Your installed Python is incomplete. Attempting to use lzma compression will result in a RuntimeError.\n",
      "  warnings.warn(msg)\n"
     ]
    }
   ],
   "source": [
    "import deepspeech\n",
    "import numpy as np\n",
    "import pandas as pd\n",
    "import matplotlib.pyplot as plt\n",
    "import wave"
   ]
  },
  {
   "cell_type": "code",
   "execution_count": 2,
   "metadata": {},
   "outputs": [
    {
     "data": {
      "text/plain": [
       "0"
      ]
     },
     "execution_count": 2,
     "metadata": {},
     "output_type": "execute_result"
    }
   ],
   "source": [
    "# Deepspeech trained model \n",
    "model_path = 'deepspeech-models/deepspeech-0.8.2-models.pbmm'\n",
    "model_scorer_path = 'deepspeech-models/deepspeech-0.8.2-models.scorer'\n",
    "lm_alpha = 0.75\n",
    "lm_beta = 1.85\n",
    "beam_width = 500\n",
    "model = deepspeech.Model(model_path)\n",
    "model.enableExternalScorer(model_scorer_path)\n",
    "model.setScorerAlphaBeta(lm_alpha, lm_beta)"
   ]
  },
  {
   "cell_type": "code",
   "execution_count": 3,
   "metadata": {},
   "outputs": [],
   "source": [
    "audio_file = \"/home/arun/shares/PROXY/NAS/Testing STT/sample_01.wav\""
   ]
  },
  {
   "cell_type": "code",
   "execution_count": 4,
   "metadata": {},
   "outputs": [],
   "source": [
    "def extract(audio_file):\n",
    "    srt = []\n",
    "    print(\"Going to process the audio file : {} \".format(audio_file))\n",
    "    with wave.open(audio_file, 'r') as w:\n",
    "        rate = w.getframerate()\n",
    "        frames = w.getnframes()\n",
    "        print(\"[process] Audio bit/rate -> [{}]\".format(rate))\n",
    "        print(\"[process] Frame rate -> [{}]\".format(frames))\n",
    "        buffer = w.readframes(frames)\n",
    "        print(\"[process] Buffer length is : {}\".format(len(buffer)))\n",
    "        print(\"The sample rate is : {}\".format(model.sampleRate()))\n",
    "        formated_buffer = np.frombuffer(buffer, dtype=np.int16)\n",
    "        text = model.stt(formated_buffer)\n",
    "        #print(\"Text Extracted is --> [{}]\".format(text))\n",
    "        srt.append(text)\n",
    "    return srt"
   ]
  },
  {
   "cell_type": "code",
   "execution_count": null,
   "metadata": {},
   "outputs": [],
   "source": [
    "# Batch wise recognition\n",
    "ds_stream = model.createStream()\n",
    "buffer_len = len(buffer)\n",
    "offset = 0\n",
    "batch_size = 16384\n",
    "while offset < buffer_len:\n",
    "        end_offset = offset + batch_size\n",
    "        chunk = buffer[offset:end_offset]\n",
    "        data16 = np.frombuffer(chunk, dtype=np.int16)\n",
    "        ds_stream.feedAudioContent(data16)\n",
    "        text = ds_stream.intermediateDecode()\n",
    "        #print(\"extracting --> {}\".format(text))\n",
    "        offset = end_offset\n",
    "print(text)"
   ]
  },
  {
   "cell_type": "code",
   "execution_count": 5,
   "metadata": {},
   "outputs": [
    {
     "name": "stdout",
     "output_type": "stream",
     "text": [
      "Going to process the audio file : /home/arun/shares/PROXY/NAS/Testing STT/sample_01.wav \n",
      "[process] Audio bit/rate -> [16000]\n",
      "[process] Frame rate -> [178240]\n",
      "[process] Buffer length is : 356480\n",
      "The sample rate is : 16000\n",
      "['and chief just as of the massachusetts supreme court in april the stress current leader edward hennesey reaches the mandatory retirement age of seventy and his successor is']\n"
     ]
    }
   ],
   "source": [
    "audio_file = \"/home/arun/shares/PROXY/NAS/Testing STT/sample_01.wav\"\n",
    "print(extract(audio_file))"
   ]
  },
  {
   "cell_type": "code",
   "execution_count": 6,
   "metadata": {},
   "outputs": [
    {
     "name": "stdout",
     "output_type": "stream",
     "text": [
      "Going to process the audio file : /home/arun/shares/PROXY/NAS/Testing STT/sample_02.wav \n",
      "[process] Audio bit/rate -> [16000]\n",
      "[process] Frame rate -> [178080]\n",
      "[process] Buffer length is : 356160\n",
      "The sample rate is : 16000\n",
      "['the justice of the locusts are grand court they had aulestes praeter and were here grates the mandatory retire age seven gates excess']\n"
     ]
    }
   ],
   "source": [
    "audio_file = \"/home/arun/shares/PROXY/NAS/Testing STT/sample_02.wav\"\n",
    "print(extract(audio_file))"
   ]
  },
  {
   "cell_type": "code",
   "execution_count": 7,
   "metadata": {},
   "outputs": [
    {
     "name": "stdout",
     "output_type": "stream",
     "text": [
      "Going to process the audio file : /home/arun/shares/PROXY/NAS/Testing STT/sample_03.wav \n",
      "[process] Audio bit/rate -> [16000]\n",
      "[process] Frame rate -> [178080]\n",
      "[process] Buffer length is : 356160\n",
      "The sample rate is : 16000\n",
      "['the justice of massachusetts a green court in deep because these current leader in war heneage that mandatory retirement tisserand the simpsons']\n"
     ]
    }
   ],
   "source": [
    "audio_file = \"/home/arun/shares/PROXY/NAS/Testing STT/sample_03.wav\"\n",
    "print(extract(audio_file))"
   ]
  },
  {
   "cell_type": "code",
   "execution_count": 8,
   "metadata": {},
   "outputs": [
    {
     "name": "stdout",
     "output_type": "stream",
     "text": [
      "Going to process the audio file : /home/arun/shares/PROXY/NAS/Testing STT/sample_04.wav \n",
      "[process] Audio bit/rate -> [16000]\n",
      "[process] Frame rate -> [178240]\n",
      "[process] Buffer length is : 356480\n",
      "The sample rate is : 16000\n",
      "['wanted chief just as of the massachusetts supreme court in april the scs current leader edward hennesey reaches the mandatory retirement age of seventy and his successor is']\n"
     ]
    }
   ],
   "source": [
    "audio_file = \"/home/arun/shares/PROXY/NAS/Testing STT/sample_04.wav\"\n",
    "print(extract(audio_file))"
   ]
  },
  {
   "cell_type": "code",
   "execution_count": 9,
   "metadata": {},
   "outputs": [
    {
     "name": "stdout",
     "output_type": "stream",
     "text": [
      "Going to process the audio file : /home/arun/shares/PROXY/NAS/Testing STT/sample_05.wav \n",
      "[process] Audio bit/rate -> [16000]\n",
      "[process] Frame rate -> [187040]\n",
      "[process] Buffer length is : 374080\n",
      "The sample rate is : 16000\n",
      "['to be named in marriage it may be the most important appointment governor makedama during the remainder of his administration and one of the toughest as we war as murger melnikov']\n"
     ]
    }
   ],
   "source": [
    "audio_file = \"/home/arun/shares/PROXY/NAS/Testing STT/sample_05.wav\"\n",
    "print(extract(audio_file))"
   ]
  },
  {
   "cell_type": "code",
   "execution_count": 10,
   "metadata": {},
   "outputs": [
    {
     "name": "stdout",
     "output_type": "stream",
     "text": [
      "Going to process the audio file : /home/arun/shares/PROXY/NAS/Testing STT/sample_06.wav \n",
      "[process] Audio bit/rate -> [16000]\n",
      "[process] Frame rate -> [186880]\n",
      "[process] Buffer length is : 373760\n",
      "The sample rate is : 16000\n",
      "['manage it the masking point on the point by evident idea departs may extremely remainder of his administration in one of the test is that the bears nor amalia']\n"
     ]
    }
   ],
   "source": [
    "audio_file = \"/home/arun/shares/PROXY/NAS/Testing STT/sample_06.wav\"\n",
    "print(extract(audio_file))"
   ]
  },
  {
   "cell_type": "code",
   "execution_count": 11,
   "metadata": {},
   "outputs": [
    {
     "name": "stdout",
     "output_type": "stream",
     "text": [
      "Going to process the audio file : /home/arun/shares/PROXY/NAS/Testing STT/sample_07.wav \n",
      "[process] Audio bit/rate -> [16000]\n",
      "[process] Frame rate -> [186880]\n",
      "[process] Buffer length is : 373760\n",
      "The sample rate is : 16000\n",
      "['in may be the most important a point queenlike declares was during the remainder of his invitation and one of the tallest is tabooed']\n"
     ]
    }
   ],
   "source": [
    "audio_file = \"/home/arun/shares/PROXY/NAS/Testing STT/sample_07.wav\"\n",
    "print(extract(audio_file))"
   ]
  },
  {
   "cell_type": "code",
   "execution_count": 12,
   "metadata": {
    "scrolled": true
   },
   "outputs": [
    {
     "name": "stdout",
     "output_type": "stream",
     "text": [
      "Going to process the audio file : /home/arun/shares/PROXY/NAS/Testing STT/sample_08.wav \n",
      "[process] Audio bit/rate -> [16000]\n",
      "[process] Frame rate -> [128640]\n",
      "[process] Buffer length is : 257280\n",
      "The sample rate is : 16000\n",
      "['repoint out that it school based clinics were established parental permission would be required for students to receive each service offered']\n"
     ]
    }
   ],
   "source": [
    "audio_file = \"/home/arun/shares/PROXY/NAS/Testing STT/sample_08.wav\"\n",
    "print(extract(audio_file))"
   ]
  },
  {
   "cell_type": "code",
   "execution_count": 13,
   "metadata": {},
   "outputs": [
    {
     "name": "stdout",
     "output_type": "stream",
     "text": [
      "Going to process the audio file : /home/arun/shares/PROXY/NAS/Testing STT/stt_sample_08.mp4.audio.wav \n",
      "[process] Audio bit/rate -> [16000]\n",
      "[process] Frame rate -> [3595193]\n",
      "[process] Buffer length is : 7190386\n",
      "The sample rate is : 16000\n",
      "[\"what is poetry a page and ripped out her wearisomely isle there are without sir of what you can to grow ripe down sir we never more understanding poetry by doctor j evans pritchard kid the polanders and poetry we must first be fluent with its meter of rhyme and figures of speak then asked you questions one how artfully as the objective of the poem been rendered to how important is that objective question one reads the poem perfection question to rate importance and once of questions have been answered the terming the poems greatness become a relatively simple matter if the bonsor for perfection is applied on the horizontal of a grapestone they made a rising to believe me it's true i do believe you tom gave mister kit but it was in his time on distant one on how to burst for you all i anyone else and you are a school lad i said he from mister pitman was transient wallandoon\"]\n"
     ]
    }
   ],
   "source": [
    "audio_file = \"/home/arun/shares/PROXY/NAS/Testing STT/stt_sample_08.mp4.audio.wav\"\n",
    "print(extract(audio_file))"
   ]
  },
  {
   "cell_type": "code",
   "execution_count": 14,
   "metadata": {},
   "outputs": [
    {
     "name": "stdout",
     "output_type": "stream",
     "text": [
      "Going to process the audio file : /home/arun/shares/PROXY/NAS/Testing STT/stt_sample_07.mp4.audio.wav \n",
      "[process] Audio bit/rate -> [16000]\n",
      "[process] Frame rate -> [5810562]\n",
      "[process] Buffer length is : 11621124\n",
      "The sample rate is : 16000\n",
      "[\"we've all heard them said then a shattered them at our friends there on artesia coffee mugs and are vintage at sea needle point sweaters these are the top one hundred most ionic movie quotes of all time the greatest trick but devil ever pulled was convincing the world he didn't exist she and this world as to transpose my friend and his loaded guns hoddesdon need amenhotep together aliandra that way he is robinson your drives a boll have what she's having as far back as i could remember i always wanted to be a gangster somtimes even entrancement time to eradicate meant you're going and get life move pretty fast you don't stop and look around with an ill you can he have a problem but we've got here is there took me canterburies do not come about by one you can find any other state war is the flesh woonsocket his mother with some father means i spend relic atterward is good joindre or milk shake the asburys day like snobbery had either macocke my day so what do you think can we leave out one of your favorite books do you disagree with some of our pigs can you name all one movies these books came from check out the answers by clicking here let us know the comments below and visitacion\"]\n"
     ]
    }
   ],
   "source": [
    "audio_file = \"/home/arun/shares/PROXY/NAS/Testing STT/stt_sample_07.mp4.audio.wav\"\n",
    "print(extract(audio_file))"
   ]
  },
  {
   "cell_type": "code",
   "execution_count": 15,
   "metadata": {},
   "outputs": [
    {
     "name": "stdout",
     "output_type": "stream",
     "text": [
      "Going to process the audio file : /home/arun/shares/PROXY/NAS/Testing STT/stt_sample_06.mp4.audio.wav \n",
      "[process] Audio bit/rate -> [16000]\n",
      "[process] Frame rate -> [4581576]\n",
      "[process] Buffer length is : 9163152\n",
      "The sample rate is : 16000\n",
      "[\"press some one chris as from his abuseth where a shirt to day you know being the last day and all and thank you how appreciate that butter whereon to morrow though kay because to mars going to be your first day if you'd like to work here as a broker would you like that chris you sir good we couldn't be happier so welcome was it as easy as it looked no sir mozart wasn't good lacrimose contis part of my life this little part is called in athenagoras in an onconsarned nobody on\"]\n"
     ]
    }
   ],
   "source": [
    "audio_file = \"/home/arun/shares/PROXY/NAS/Testing STT/stt_sample_06.mp4.audio.wav\"\n",
    "print(extract(audio_file))"
   ]
  },
  {
   "cell_type": "code",
   "execution_count": 19,
   "metadata": {},
   "outputs": [
    {
     "name": "stdout",
     "output_type": "stream",
     "text": [
      "Going to process the audio file : /home/arun/shares/PROXY/NAS/Testing STT/stt_sample_01.mp4.audio.wav \n",
      "[process] Audio bit/rate -> [16000]\n",
      "[process] Frame rate -> [3268256]\n",
      "[process] Buffer length is : 6536512\n",
      "The sample rate is : 16000\n",
      "['a bronson while an three times the size of our son or to end its life had with a collapse the gravitation of forces of the entire mass overcoming the electro magnetic forces of individual atoms and soul collapsing inward if the star is massive enough it will continue this collapse creating a black hole where the warping of space time is so great that nothing can escape not even light it gets smaller smaller the star in fact gets denser as atoms even subatomic particles kept literally crushed into smaller and smaller space and a end point what are we left with a space time singularity space and time come to a stone relations there about that coast to the entire itchiness right is general relativity project then the universe expanding has if you reverse time and the university goncalo has said what is a reverse process all the way back to see what happened with the beginning of time itself the king have time satisfies getting smaller and smaller getting denser and denser hotter and hotter as we mind back to exactly why but the car in that noise on the way mathematicians and cigar so the universe born from a black hoebinger the universal no no mamma keep going develop the mathematics']\n"
     ]
    }
   ],
   "source": [
    "audio_file = \"/home/arun/shares/PROXY/NAS/Testing STT/stt_sample_01.mp4.audio.wav\"\n",
    "print(extract(audio_file))"
   ]
  },
  {
   "cell_type": "code",
   "execution_count": 20,
   "metadata": {},
   "outputs": [
    {
     "name": "stdout",
     "output_type": "stream",
     "text": [
      "Going to process the audio file : /home/arun/shares/PROXY/NAS/Testing STT/stt_sample_02.mp4.audio.wav \n",
      "[process] Audio bit/rate -> [16000]\n",
      "[process] Frame rate -> [3300206]\n",
      "[process] Buffer length is : 6600412\n",
      "The sample rate is : 16000\n",
      "[\"then where are we that the asinine day and this is the mutineers home to many of the greatest paintings in his wonderful ignored a bustling monforte chances we can never when chimaera my child and there is another cracker for it so so good i just wondered between you and me and earthenware where d you think bengore sister of a well big question but to me then go i find pentruan most popular great painter for all time the most been loved his command of carlos magnificent he transformed the pain is tormented life into is dabat paine is easy to portray them to use your passion and pain to betray the estacion joy and magnificent so our world no one had ever done it before perhaps an o and ever will again to my mind that strange wild man who roamed the fields provant was not only the world's greatest artist but also one of the greatest men who ever lived or too much now to the joy thank follow\"]\n"
     ]
    }
   ],
   "source": [
    "audio_file = \"/home/arun/shares/PROXY/NAS/Testing STT/stt_sample_02.mp4.audio.wav\"\n",
    "print(extract(audio_file))"
   ]
  },
  {
   "cell_type": "code",
   "execution_count": 21,
   "metadata": {},
   "outputs": [
    {
     "name": "stdout",
     "output_type": "stream",
     "text": [
      "Going to process the audio file : /home/arun/shares/PROXY/NAS/Testing STT/stt_sample_03.mp4.audio.wav \n",
      "[process] Audio bit/rate -> [16000]\n",
      "[process] Frame rate -> [8525253]\n",
      "[process] Buffer length is : 17050506\n",
      "The sample rate is : 16000\n",
      "[\"so what makes you think that i'm going to let the whitest man that i have ever seen interview for our firm because i haven't pointed you can do this you did what is wrong with you humour eleven years old i was led to puberty okay i respect and excuse me i was to go back on me for a swim of the boiled her night course sir the children will do best in the city he is the poor clothes i do you the time i can o'clock sorry god utiarity to think one of whom tales just walk in a state radio rick stork in a stork in rick organ excuse me mister skin you are five minutes late there a reason why i should let you in or to the oilometer pete will be rightly he what can get you anything a coffee or water i rick sort pariset or nice to meet you to a sea as can i help you no excuse me the state for you but is slower of your spark i have seaton and i think i recision that your better served in person with me is reliance the most how the hell did you know they would if the police i read this novel an elementary school caps are staking out of hotel one of the dresses is a bell hop the other is a man in a suit and it was the exact canting you read a novel you know entry school what i like to read a white asked him what time it was throw him off and what kind of drug dealer asked a complete it is when he's got a brief case full of pot right we should i are you she i give you the twenty five grand as a signing bonus i'll take it i'm fortunately we only are from arbor and and you not only did not go on her law school he haven't even got to any lace what if i told you that i consume knowledge like no one you've ever met and i actually passed the bar i'd say your pellagra as a barbille hamburgh there right open it up read me something anything civil i ability is sauted with agency is based on several factors of the nothin of the agent from his path the reasonable inference of agency on behalf of the plaintiff and the nature of the damages themselves how did you know them i learned it when i studied for the bar kayastha forth his left up to show you what a harvard turney can do the atop stop option back dating although back dat i options his legal violations arise related to disclosures under i see section four o nine eggs he forgot about startin off like a statue limitations render surveys oxley mood to post two thousand seven but not if you can find actions to cover up the violations established in the sex circuit may ten thousand eight impressive but you're sitting in a computer playing hearts sorry if you want to be more had to do it to something else how can you know all that i told you i like to read and once i read something i understand it and once i understand it i never forget it whitaker the tick had got the couldn't pass it without one to wash in okay look this is all pretty fascinating spot but i'm friend i gotta get back to work i'll make sure that service isn't around waiting for you i want this job so much on to his good law school when i was in college it was my dream to be a lawyer i need some money and trevor convinced me to memorize this math test and sell it trout we sold it to the dean's daughter i lost my scholarship i i kicked out of school i i'm not knocked into a different life and i have been wishing for a way back ever since mutilating this is an elementary school this is hard work long hours high pressure i need a groan god damn man you give me this and i will work as hard as it takes to school those harvard douches and become the best lawyer you have ever seen i'm inclined to give you a shot but what if i decide to go another way i said that's fair sometimes i like to angouleme who aren't that bright as to see how the other half lives move over i mean mailing the firm i just found our next\"]\n"
     ]
    }
   ],
   "source": [
    "audio_file = \"/home/arun/shares/PROXY/NAS/Testing STT/stt_sample_03.mp4.audio.wav\"\n",
    "print(extract(audio_file))"
   ]
  },
  {
   "cell_type": "code",
   "execution_count": null,
   "metadata": {},
   "outputs": [],
   "source": [
    "audio_file = \"/home/arun/shares/PROXY/NAS/Testing STT/stt_sample_02.mp4.audio.wav\"\n",
    "print(extract(audio_file))"
   ]
  },
  {
   "cell_type": "code",
   "execution_count": null,
   "metadata": {},
   "outputs": [],
   "source": [
    "audio_file = \"/home/arun/shares/PROXY/NAS/Testing STT/stt_sample_01.mp4.audio.wav\"\n",
    "print(extract(audio_file))"
   ]
  },
  {
   "cell_type": "code",
   "execution_count": null,
   "metadata": {},
   "outputs": [],
   "source": []
  },
  {
   "cell_type": "code",
   "execution_count": null,
   "metadata": {},
   "outputs": [],
   "source": []
  }
 ],
 "metadata": {
  "kernelspec": {
   "display_name": "Python 3",
   "language": "python",
   "name": "python3"
  },
  "language_info": {
   "codemirror_mode": {
    "name": "ipython",
    "version": 3
   },
   "file_extension": ".py",
   "mimetype": "text/x-python",
   "name": "python",
   "nbconvert_exporter": "python",
   "pygments_lexer": "ipython3",
   "version": "3.6.12"
  }
 },
 "nbformat": 4,
 "nbformat_minor": 4
}

{
 "cells": [
  {
   "cell_type": "code",
   "execution_count": null,
   "metadata": {},
   "outputs": [],
   "source": [
    "## Running deep speech transcriber"
   ]
  },
  {
   "cell_type": "code",
   "execution_count": 1,
   "metadata": {},
   "outputs": [
    {
     "name": "stderr",
     "output_type": "stream",
     "text": [
      "/home/arun/Jarvis/.venv/lib/python3.6/site-packages/pandas/compat/__init__.py:120: UserWarning: Could not import the lzma module. Your installed Python is incomplete. Attempting to use lzma compression will result in a RuntimeError.\n",
      "  warnings.warn(msg)\n"
     ]
    }
   ],
   "source": [
    "import deepspeech\n",
    "import numpy as np\n",
    "import pandas as pd\n",
    "import matplotlib.pyplot as plt\n",
    "import wave"
   ]
  },
  {
   "cell_type": "code",
   "execution_count": 2,
   "metadata": {},
   "outputs": [
    {
     "data": {
      "text/plain": [
       "0"
      ]
     },
     "execution_count": 2,
     "metadata": {},
     "output_type": "execute_result"
    }
   ],
   "source": [
    "# Deepspeech trained model \n",
    "model_path = './deepspeech-models/deepspeech-0.8.2-models.pbmm'\n",
    "model_scorer_path = './deepspeech-models/deepspeech-0.8.2-models.scorer'\n",
    "lm_alpha = 0.75\n",
    "lm_beta = 1.85\n",
    "beam_width = 500\n",
    "model = deepspeech.Model(model_path)\n",
    "model.enableExternalScorer(model_scorer_path)\n",
    "model.setScorerAlphaBeta(lm_alpha, lm_beta)"
   ]
  },
  {
   "cell_type": "code",
   "execution_count": 3,
   "metadata": {},
   "outputs": [],
   "source": [
    "audio_file = \"/home/arun/shares/PROXY/NAS/Testing STT/sample_01.wav\""
   ]
  },
  {
   "cell_type": "code",
   "execution_count": 4,
   "metadata": {},
   "outputs": [],
   "source": [
    "def extract(audio_file):\n",
    "    srt = []\n",
    "    print(\"Going to process the audio file : {} \".format(audio_file))\n",
    "    with wave.open(audio_file, 'r') as w:\n",
    "        rate = w.getframerate()\n",
    "        frames = w.getnframes()\n",
    "        print(\"[process] Audio bit/rate -> [{}]\".format(rate))\n",
    "        print(\"[process] Frame rate -> [{}]\".format(frames))\n",
    "        buffer = w.readframes(frames)\n",
    "        print(type(buffer))find the\n",
    "        print(\"[process] Buffer length is : {}\".format(len(buffer)))\n",
    "        print(\"The sample rate is : {}\".format(model.sampleRate()))\n",
    "        formated_buffer = np.frombuffer(buffer, dtype=np.int16)\n",
    "        text = model.stt(formated_buffer)\n",
    "        #print(\"Text Extracted is --> [{}]\".format(text))\n",
    "        srt.append(text)\n",
    "    return srt"
   ]
  },
  {
   "cell_type": "code",
   "execution_count": 6,
   "metadata": {},
   "outputs": [
    {
     "name": "stdout",
     "output_type": "stream",
     "text": [
      "Going to process the audio file : /home/arun/shares/PROXY/NAS/Testing STT/sample_01.wav \n",
      "[process] Audio bit/rate -> [16000]\n",
      "[process] Frame rate -> [178240]\n",
      "<class 'bytes'>\n",
      "[process] Buffer length is : 356480\n",
      "The sample rate is : 16000\n"
     ]
    },
    {
     "data": {
      "text/plain": [
       "['and chief just as of the massachusetts supreme court in april the stress current leader edward hennesey reaches the mandatory retirement age of seventy and his successor is']"
      ]
     },
     "execution_count": 6,
     "metadata": {},
     "output_type": "execute_result"
    }
   ],
   "source": [
    "extract(audio_file)"
   ]
  },
  {
   "cell_type": "code",
   "execution_count": null,
   "metadata": {},
   "outputs": [],
   "source": [
    "# Batch wise recognition\n",
    "ds_stream = model.createStream()\n",
    "buffer_len = len(buffer)\n",
    "offset = 0\n",
    "batch_size = 16384\n",
    "while offset < buffer_len:\n",
    "        end_offset = offset + batch_size\n",
    "        chunk = buffer[offset:end_offset]\n",
    "        data16 = np.frombuffer(chunk, dtype=np.int16)\n",
    "        ds_stream.feedAudioContent(data16)\n",
    "        text = ds_stream.intermediateDecode()\n",
    "        #print(\"extracting --> {}\".format(text))\n",
    "        offset = end_offset\n",
    "print(text)"
   ]
  },
  {
   "cell_type": "code",
   "execution_count": null,
   "metadata": {},
   "outputs": [],
   "source": [
    "audio_file = \"/home/arun/shares/PROXY/NAS/Testing STT/sample_01.wav\"\n",
    "print(extract(audio_file))"
   ]
  },
  {
   "cell_type": "code",
   "execution_count": null,
   "metadata": {},
   "outputs": [],
   "source": [
    "audio_file = \"/home/arun/shares/PROXY/NAS/Testing STT/sample_02.wav\"\n",
    "print(extract(audio_file))"
   ]
  },
  {
   "cell_type": "code",
   "execution_count": null,
   "metadata": {},
   "outputs": [],
   "source": [
    "audio_file = \"/home/arun/shares/PROXY/NAS/Testing STT/sample_03.wav\"\n",
    "print(extract(audio_file))"
   ]
  },
  {
   "cell_type": "code",
   "execution_count": null,
   "metadata": {},
   "outputs": [],
   "source": [
    "audio_file = \"/home/arun/shares/PROXY/NAS/Testing STT/sample_04.wav\"\n",
    "print(extract(audio_file))"
   ]
  },
  {
   "cell_type": "code",
   "execution_count": null,
   "metadata": {},
   "outputs": [],
   "source": [
    "audio_file = \"/home/arun/shares/PROXY/NAS/Testing STT/sample_05.wav\"\n",
    "print(extract(audio_file))"
   ]
  },
  {
   "cell_type": "code",
   "execution_count": null,
   "metadata": {},
   "outputs": [],
   "source": [
    "audio_file = \"/home/arun/shares/PROXY/NAS/Testing STT/sample_06.wav\"\n",
    "print(extract(audio_file))"
   ]
  },
  {
   "cell_type": "code",
   "execution_count": null,
   "metadata": {},
   "outputs": [],
   "source": [
    "audio_file = \"/home/arun/shares/PROXY/NAS/Testing STT/sample_07.wav\"\n",
    "print(extract(audio_file))"
   ]
  },
  {
   "cell_type": "code",
   "execution_count": null,
   "metadata": {
    "scrolled": true
   },
   "outputs": [],
   "source": [
    "audio_file = \"/home/arun/shares/PROXY/NAS/Testing STT/sample_08.wav\"\n",
    "print(extract(audio_file))"
   ]
  },
  {
   "cell_type": "code",
   "execution_count": null,
   "metadata": {},
   "outputs": [],
   "source": [
    "audio_file = \"/home/arun/shares/PROXY/NAS/Testing STT/stt_sample_08.mp4.audio.wav\"\n",
    "print(extract(audio_file))"
   ]
  },
  {
   "cell_type": "code",
   "execution_count": null,
   "metadata": {},
   "outputs": [],
   "source": [
    "audio_file = \"/home/arun/shares/PROXY/NAS/Testing STT/stt_sample_07.mp4.audio.wav\"\n",
    "print(extract(audio_file))"
   ]
  },
  {
   "cell_type": "code",
   "execution_count": null,
   "metadata": {},
   "outputs": [],
   "source": [
    "audio_file = \"/home/arun/shares/PROXY/NAS/Testing STT/stt_sample_06.mp4.audio.wav\"\n",
    "print(extract(audio_file))"
   ]
  },
  {
   "cell_type": "code",
   "execution_count": null,
   "metadata": {},
   "outputs": [],
   "source": [
    "audio_file = \"/home/arun/shares/PROXY/NAS/Testing STT/stt_sample_01.mp4.audio.wav\"\n",
    "print(extract(audio_file))"
   ]
  },
  {
   "cell_type": "code",
   "execution_count": null,
   "metadata": {},
   "outputs": [],
   "source": [
    "audio_file = \"/home/arun/shares/PROXY/NAS/Testing STT/stt_sample_02.mp4.audio.wav\"\n",
    "print(extract(audio_file))"
   ]
  },
  {
   "cell_type": "code",
   "execution_count": null,
   "metadata": {},
   "outputs": [],
   "source": [
    "audio_file = \"/home/arun/shares/PROXY/NAS/Testing STT/stt_sample_03.mp4.audio.wav\"\n",
    "print(extract(audio_file))"
   ]
  },
  {
   "cell_type": "code",
   "execution_count": null,
   "metadata": {},
   "outputs": [],
   "source": [
    "audio_file = \"/home/arun/shares/PROXY/NAS/Testing STT/stt_sample_02.mp4.audio.wav\"\n",
    "print(extract(audio_file))"
   ]
  },
  {
   "cell_type": "code",
   "execution_count": null,
   "metadata": {},
   "outputs": [],
   "source": [
    "audio_file = \"/home/arun/shares/PROXY/NAS/Testing STT/stt_sample_01.mp4.audio.wav\"\n",
    "print(extract(audio_file))"
   ]
  },
  {
   "cell_type": "code",
   "execution_count": null,
   "metadata": {},
   "outputs": [],
   "source": []
  },
  {
   "cell_type": "code",
   "execution_count": null,
   "metadata": {},
   "outputs": [],
   "source": []
  }
 ],
 "metadata": {
  "kernelspec": {
   "display_name": "Python 3",
   "language": "python",
   "name": "python3"
  },
  "language_info": {
   "codemirror_mode": {
    "name": "ipython",
    "version": 3
   },
   "file_extension": ".py",
   "mimetype": "text/x-python",
   "name": "python",
   "nbconvert_exporter": "python",
   "pygments_lexer": "ipython3",
   "version": "3.6.12"
  }
 },
 "nbformat": 4,
 "nbformat_minor": 4
}

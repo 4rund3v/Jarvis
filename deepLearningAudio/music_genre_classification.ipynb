{
 "cells": [
  {
   "cell_type": "code",
   "execution_count": null,
   "metadata": {},
   "outputs": [],
   "source": [
    "import os\n",
    "import sys\n",
    "import numpy as np\n",
    "import matplotlib.pyplot as plt\n",
    "import librosa\n",
    "import math\n",
    "import json\n",
    "import pandas as pd"
   ]
  },
  {
   "cell_type": "code",
   "execution_count": null,
   "metadata": {},
   "outputs": [],
   "source": [
    "# DATASET PATH = \"/home/arun/Jarvis/deepLearningAudio/Data/genres_original\"\n",
    "# Json PATH = \"/home/arun/Jarvis/deepLearningAudio/Data/audio_data.json\"\n",
    "## Preprocessing Pipeline\n",
    "SAMPLE_RATE = 22050\n",
    "DURATION = 30\n",
    "SAMPLES_PER_TRACK = SAMPLE_RATE * DURATION\n",
    "\n",
    "def save_mfcc(dataset_path, json_path, n_mfcc=13, n_fft=2046, hop_length=512, num_seg=5):\n",
    "    \"\"\"\n",
    "        dataset_path\n",
    "        json_path\n",
    "        n_mfcc\n",
    "        n_fft\n",
    "        hop_length\n",
    "        num_segments \n",
    "    \"\"\"\n",
    "    data = {\n",
    "        \"mapping\" : [],\n",
    "        \"mfcc\": [],\n",
    "        \"labels\": []       \n",
    "    }\n",
    "    # no of sample per segments\n",
    "    num_samples_per_segment = int(SAMPLES_PER_TRACK / num_seg)\n",
    "    # expected_num_mfcc_vectors_per_segment\n",
    "    expected_num_mfcc_vectors_per_segment = math.ceil(num_samples_per_segment / hop_length)\n",
    "    \n",
    "    # loop throguh all the genres\n",
    "    genre_index = -1\n",
    "    for genre in os.listdir(dataset_path):\n",
    "        genre_index += 1\n",
    "        print(\"Genre processing is  : {}  \".format(genre))\n",
    "        data[\"mapping\"].append(genre)\n",
    "        for f in os.listdir(os.path.join(dataset_path, genre)):\n",
    "            if not f.endswith(\".wav\"):\n",
    "                continue\n",
    "            print(\"[{}] File is --> {}\".format(genre, f))\n",
    "            file_path = os.path.join(dataset_path, genre, f)\n",
    "            signal, sr = librosa.read(file_path, sr=SAMPLE_RATE)\n",
    "            \n",
    "            # process segments extracting mfcc and storing data\n",
    "            for s in range(num_segments):\n",
    "                start_sample = num_samples_per_segment * s\n",
    "                finish_sample = start_sample + num_samples_per_segment\n",
    "                # store mfcc for segment if it has the expected length\n",
    "                \n",
    "                mfcc = librosa.feature.mfcc(signal[start_sample:finish_sample],\n",
    "                                           sr=sr, n_fft=n_fft, n_mfcc=n_mfcc, hop_length=hop_length\n",
    "                                           )\n",
    "                mfcc = mfcc.T\n",
    "                if len(mfcc) == expected_num_mfcc_vectors_per_segment:\n",
    "                    data[\"mfcc\"].append(mfcc.tolist())\n",
    "                    data[\"labels\"].append(genre_index)\n",
    "                    \n",
    "    with open(json_path, 'w') as wfile:\n",
    "        json.dump(data, wfile, indent=4)"
   ]
  },
  {
   "cell_type": "code",
   "execution_count": null,
   "metadata": {},
   "outputs": [],
   "source": [
    "dataset_path = \"/home/arun/Jarvis/deepLearningAudio/Data/genres_original\"\n",
    "json_path = \"/home/arun/Jarvis/deepLearningAudio/Data/audio_data.json\"\n",
    "\n",
    "save_mfcc(dataset_path, json_path)"
   ]
  },
  {
   "cell_type": "code",
   "execution_count": null,
   "metadata": {},
   "outputs": [],
   "source": []
  }
 ],
 "metadata": {
  "kernelspec": {
   "display_name": "Python 3",
   "language": "python",
   "name": "python3"
  },
  "language_info": {
   "codemirror_mode": {
    "name": "ipython",
    "version": 3
   },
   "file_extension": ".py",
   "mimetype": "text/x-python",
   "name": "python",
   "nbconvert_exporter": "python",
   "pygments_lexer": "ipython3",
   "version": "3.6.12"
  }
 },
 "nbformat": 4,
 "nbformat_minor": 4
}

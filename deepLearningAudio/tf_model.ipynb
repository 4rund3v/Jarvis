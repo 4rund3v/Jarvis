{
 "cells": [
  {
   "cell_type": "code",
   "execution_count": 13,
   "metadata": {},
   "outputs": [],
   "source": [
    "## To build a model in tensorflow\n",
    "from random import random \n",
    "import numpy as np\n",
    "from sklearn.model_selection import train_test_split \n",
    "import tensorflow as tf\n",
    "\n",
    "\n",
    "def generate_dataset(num_samples, test_size):    \n",
    "    x = np.array([[random()/2 for _ in range(2)] for _ in range(num_samples) ])\n",
    "    y = np.array([[i[0] + i[1]] for i in x])\n",
    "    x_train, x_test, y_train, y_test = train_test_split(x, y, test_size=test_size)\n",
    "    return x_train, x_test, y_train, y_test\n"
   ]
  },
  {
   "cell_type": "code",
   "execution_count": 14,
   "metadata": {},
   "outputs": [
    {
     "name": "stdout",
     "output_type": "stream",
     "text": [
      "Training data shape inputs (35000, 2) -> outputs (35000, 1)\n",
      "Testing data shape  inputs (15000, 2) -> outputs (15000, 1)\n"
     ]
    }
   ],
   "source": [
    "x_train, x_test, y_train, y_test = generate_dataset(50000, 0.33)\n",
    "print(\"Training data shape inputs {} -> outputs {}\".format(x_train.shape, y_train.shape))\n",
    "print(\"Testing data shape  inputs {} -> outputs {}\".format(x_test.shape, y_test.shape))"
   ]
  },
  {
   "cell_type": "code",
   "execution_count": 15,
   "metadata": {},
   "outputs": [
    {
     "name": "stdout",
     "output_type": "stream",
     "text": [
      "Epoch 1/100\n",
      "1094/1094 [==============================] - 1s 1ms/step - loss: 0.0391\n",
      "Epoch 2/100\n",
      "1094/1094 [==============================] - 1s 1ms/step - loss: 0.0313\n",
      "Epoch 3/100\n",
      "1094/1094 [==============================] - 1s 1ms/step - loss: 0.0231\n",
      "Epoch 4/100\n",
      "1094/1094 [==============================] - 1s 1ms/step - loss: 0.0147\n",
      "Epoch 5/100\n",
      "1094/1094 [==============================] - 1s 1ms/step - loss: 0.0083\n",
      "Epoch 6/100\n",
      "1094/1094 [==============================] - 1s 1ms/step - loss: 0.0043\n",
      "Epoch 7/100\n",
      "1094/1094 [==============================] - 1s 1ms/step - loss: 0.0023\n",
      "Epoch 8/100\n",
      "1094/1094 [==============================] - 1s 1ms/step - loss: 0.0013\n",
      "Epoch 9/100\n",
      "1094/1094 [==============================] - 1s 1ms/step - loss: 7.9881e-04\n",
      "Epoch 10/100\n",
      "1094/1094 [==============================] - 1s 1ms/step - loss: 5.7822e-04\n",
      "Epoch 11/100\n",
      "1094/1094 [==============================] - 1s 1ms/step - loss: 4.7451e-04\n",
      "Epoch 12/100\n",
      "1094/1094 [==============================] - 1s 1ms/step - loss: 4.2533e-04\n",
      "Epoch 13/100\n",
      "1094/1094 [==============================] - 1s 1ms/step - loss: 4.0196e-04\n",
      "Epoch 14/100\n",
      "1094/1094 [==============================] - 1s 1ms/step - loss: 3.9073e-04\n",
      "Epoch 15/100\n",
      "1094/1094 [==============================] - 1s 1ms/step - loss: 3.8515e-04\n",
      "Epoch 16/100\n",
      "1094/1094 [==============================] - 1s 1ms/step - loss: 3.8234e-04\n",
      "Epoch 17/100\n",
      "1094/1094 [==============================] - 1s 1ms/step - loss: 3.8075e-04\n",
      "Epoch 18/100\n",
      "1094/1094 [==============================] - 1s 1ms/step - loss: 3.7979e-04\n",
      "Epoch 19/100\n",
      "1094/1094 [==============================] - 1s 1ms/step - loss: 3.7913e-04\n",
      "Epoch 20/100\n",
      "1094/1094 [==============================] - 1s 1ms/step - loss: 3.7862e-04\n",
      "Epoch 21/100\n",
      "1094/1094 [==============================] - 1s 1ms/step - loss: 3.7816e-04\n",
      "Epoch 22/100\n",
      "1094/1094 [==============================] - 1s 1ms/step - loss: 3.7774e-04\n",
      "Epoch 23/100\n",
      "1094/1094 [==============================] - 1s 1ms/step - loss: 3.7745e-04\n",
      "Epoch 24/100\n",
      "1094/1094 [==============================] - 1s 1ms/step - loss: 3.7706e-04\n",
      "Epoch 25/100\n",
      "1094/1094 [==============================] - 1s 1ms/step - loss: 3.7671e-04\n",
      "Epoch 26/100\n",
      "1094/1094 [==============================] - 1s 1ms/step - loss: 3.7636e-04\n",
      "Epoch 27/100\n",
      "1094/1094 [==============================] - 1s 1ms/step - loss: 3.7604e-04\n",
      "Epoch 28/100\n",
      "1094/1094 [==============================] - 1s 1ms/step - loss: 3.7572e-04\n",
      "Epoch 29/100\n",
      "1094/1094 [==============================] - 1s 1ms/step - loss: 3.7539e-04\n",
      "Epoch 30/100\n",
      "1094/1094 [==============================] - 1s 1ms/step - loss: 3.7510e-04\n",
      "Epoch 31/100\n",
      "1094/1094 [==============================] - 1s 1ms/step - loss: 3.7479e-04\n",
      "Epoch 32/100\n",
      "1094/1094 [==============================] - 1s 1ms/step - loss: 3.7454e-04\n",
      "Epoch 33/100\n",
      "1094/1094 [==============================] - 1s 1ms/step - loss: 3.7425e-04\n",
      "Epoch 34/100\n",
      "1094/1094 [==============================] - 1s 1ms/step - loss: 3.7394e-04\n",
      "Epoch 35/100\n",
      "1094/1094 [==============================] - 1s 1ms/step - loss: 3.7372e-04\n",
      "Epoch 36/100\n",
      "1094/1094 [==============================] - 1s 1ms/step - loss: 3.7344e-04\n",
      "Epoch 37/100\n",
      "1094/1094 [==============================] - 1s 1ms/step - loss: 3.7316e-04\n",
      "Epoch 38/100\n",
      "1094/1094 [==============================] - 1s 1ms/step - loss: 3.7295e-04\n",
      "Epoch 39/100\n",
      "1094/1094 [==============================] - 1s 1ms/step - loss: 3.7265e-04\n",
      "Epoch 40/100\n",
      "1094/1094 [==============================] - 1s 1ms/step - loss: 3.7239e-04\n",
      "Epoch 41/100\n",
      "1094/1094 [==============================] - 1s 1ms/step - loss: 3.7213e-04\n",
      "Epoch 42/100\n",
      "1094/1094 [==============================] - 1s 1ms/step - loss: 3.7196e-04\n",
      "Epoch 43/100\n",
      "1094/1094 [==============================] - 1s 1ms/step - loss: 3.7170e-04\n",
      "Epoch 44/100\n",
      "1094/1094 [==============================] - 1s 1ms/step - loss: 3.7145e-04\n",
      "Epoch 45/100\n",
      "1094/1094 [==============================] - 2s 1ms/step - loss: 3.7125e-04\n",
      "Epoch 46/100\n",
      "1094/1094 [==============================] - 1s 1ms/step - loss: 3.7101e-04\n",
      "Epoch 47/100\n",
      "1094/1094 [==============================] - 1s 1ms/step - loss: 3.7078e-04\n",
      "Epoch 48/100\n",
      "1094/1094 [==============================] - 1s 1ms/step - loss: 3.7048e-04\n",
      "Epoch 49/100\n",
      "1094/1094 [==============================] - 1s 1ms/step - loss: 3.7035e-04\n",
      "Epoch 50/100\n",
      "1094/1094 [==============================] - 1s 1ms/step - loss: 3.7013e-04\n",
      "Epoch 51/100\n",
      "1094/1094 [==============================] - 1s 1ms/step - loss: 3.6998e-04\n",
      "Epoch 52/100\n",
      "1094/1094 [==============================] - 1s 1ms/step - loss: 3.6976e-04\n",
      "Epoch 53/100\n",
      "1094/1094 [==============================] - 1s 1ms/step - loss: 3.6952e-04\n",
      "Epoch 54/100\n",
      "1094/1094 [==============================] - 1s 1ms/step - loss: 3.6932e-04\n",
      "Epoch 55/100\n",
      "1094/1094 [==============================] - 1s 1ms/step - loss: 3.6916e-04\n",
      "Epoch 56/100\n",
      "1094/1094 [==============================] - 1s 1ms/step - loss: 3.6896e-04\n",
      "Epoch 57/100\n",
      "1094/1094 [==============================] - 1s 1ms/step - loss: 3.6877e-04\n",
      "Epoch 58/100\n",
      "1094/1094 [==============================] - 1s 1ms/step - loss: 3.6860e-04\n",
      "Epoch 59/100\n",
      "1094/1094 [==============================] - 1s 1ms/step - loss: 3.6840e-04\n",
      "Epoch 60/100\n",
      "1094/1094 [==============================] - 1s 1ms/step - loss: 3.6824e-04\n",
      "Epoch 61/100\n",
      "1094/1094 [==============================] - 1s 1ms/step - loss: 3.6807e-04\n",
      "Epoch 62/100\n",
      "1094/1094 [==============================] - 1s 1ms/step - loss: 3.6788e-04\n",
      "Epoch 63/100\n",
      "1094/1094 [==============================] - 1s 1ms/step - loss: 3.6768e-04\n",
      "Epoch 64/100\n",
      "1094/1094 [==============================] - 1s 1ms/step - loss: 3.6748e-04\n",
      "Epoch 65/100\n",
      "1094/1094 [==============================] - 1s 1ms/step - loss: 3.6732e-04\n",
      "Epoch 66/100\n",
      "1094/1094 [==============================] - 1s 1ms/step - loss: 3.6721e-04\n",
      "Epoch 67/100\n",
      "1094/1094 [==============================] - 1s 1ms/step - loss: 3.6697e-04\n",
      "Epoch 68/100\n",
      "1094/1094 [==============================] - 1s 1ms/step - loss: 3.6678e-04\n",
      "Epoch 69/100\n",
      "1094/1094 [==============================] - 1s 1ms/step - loss: 3.6663e-04\n",
      "Epoch 70/100\n",
      "1094/1094 [==============================] - 1s 1ms/step - loss: 3.6652e-04\n",
      "Epoch 71/100\n",
      "1094/1094 [==============================] - 1s 1ms/step - loss: 3.6629e-04\n",
      "Epoch 72/100\n",
      "1094/1094 [==============================] - 1s 1ms/step - loss: 3.6617e-04\n",
      "Epoch 73/100\n",
      "1094/1094 [==============================] - 1s 1ms/step - loss: 3.6601e-04\n",
      "Epoch 74/100\n",
      "1094/1094 [==============================] - 1s 1ms/step - loss: 3.6586e-04\n",
      "Epoch 75/100\n",
      "1094/1094 [==============================] - 1s 1ms/step - loss: 3.6568e-04\n",
      "Epoch 76/100\n",
      "1094/1094 [==============================] - 1s 1ms/step - loss: 3.6550e-04\n",
      "Epoch 77/100\n",
      "1094/1094 [==============================] - 2s 1ms/step - loss: 3.6540e-04\n",
      "Epoch 78/100\n",
      "1094/1094 [==============================] - 1s 1ms/step - loss: 3.6522e-04\n",
      "Epoch 79/100\n",
      "1094/1094 [==============================] - 1s 1ms/step - loss: 3.6512e-04\n",
      "Epoch 80/100\n",
      "1094/1094 [==============================] - 1s 1ms/step - loss: 3.6493e-04\n",
      "Epoch 81/100\n",
      "1094/1094 [==============================] - 1s 1ms/step - loss: 3.6476e-04\n",
      "Epoch 82/100\n",
      "1094/1094 [==============================] - 1s 1ms/step - loss: 3.6461e-04\n",
      "Epoch 83/100\n",
      "1094/1094 [==============================] - 1s 1ms/step - loss: 3.6452e-04\n",
      "Epoch 84/100\n",
      "1094/1094 [==============================] - 1s 1ms/step - loss: 3.6432e-04\n",
      "Epoch 85/100\n",
      "1094/1094 [==============================] - 1s 1ms/step - loss: 3.6425e-04\n",
      "Epoch 86/100\n",
      "1094/1094 [==============================] - 1s 1ms/step - loss: 3.6405e-04\n",
      "Epoch 87/100\n",
      "1094/1094 [==============================] - 1s 1ms/step - loss: 3.6395e-04\n",
      "Epoch 88/100\n",
      "1094/1094 [==============================] - 1s 1ms/step - loss: 3.6372e-04\n",
      "Epoch 89/100\n",
      "1094/1094 [==============================] - 1s 1ms/step - loss: 3.6365e-04\n",
      "Epoch 90/100\n",
      "1094/1094 [==============================] - 1s 1ms/step - loss: 3.6352e-04\n",
      "Epoch 91/100\n",
      "1094/1094 [==============================] - 1s 1ms/step - loss: 3.6339e-04\n",
      "Epoch 92/100\n",
      "1094/1094 [==============================] - 1s 1ms/step - loss: 3.6325e-04\n",
      "Epoch 93/100\n"
     ]
    },
    {
     "name": "stdout",
     "output_type": "stream",
     "text": [
      "1094/1094 [==============================] - 1s 1ms/step - loss: 3.6313e-04\n",
      "Epoch 94/100\n",
      "1094/1094 [==============================] - 1s 1ms/step - loss: 3.6297e-04\n",
      "Epoch 95/100\n",
      "1094/1094 [==============================] - 1s 1ms/step - loss: 3.6283e-04\n",
      "Epoch 96/100\n",
      "1094/1094 [==============================] - 1s 1ms/step - loss: 3.6270e-04\n",
      "Epoch 97/100\n",
      "1094/1094 [==============================] - 1s 1ms/step - loss: 3.6256e-04\n",
      "Epoch 98/100\n",
      "1094/1094 [==============================] - 1s 1ms/step - loss: 3.6243e-04\n",
      "Epoch 99/100\n",
      "1094/1094 [==============================] - 1s 1ms/step - loss: 3.6230e-04\n",
      "Epoch 100/100\n",
      "1094/1094 [==============================] - 1s 1ms/step - loss: 3.6215e-04\n"
     ]
    },
    {
     "data": {
      "text/plain": [
       "<tensorflow.python.keras.callbacks.History at 0x7f29cc5297f0>"
      ]
     },
     "execution_count": 15,
     "metadata": {},
     "output_type": "execute_result"
    }
   ],
   "source": [
    "# Keras is a high level library\n",
    "# Sequential - sequential network, where the input is moving from left to right\n",
    "# Dense -  A fully connected layer, all neurons are fully connected\n",
    "# \n",
    "# MLP model : 2 -> 5 -> 1\n",
    "model = tf.keras.Sequential([\n",
    "        tf.keras.layers.Dense(5, input_dim=2, activation=\"sigmoid\"),\n",
    "        tf.keras.layers.Dense(1,  activation=\"sigmoid\") ])\n",
    "optimizer = tf.keras.optimizers.SGD(learning_rate=0.1)\n",
    "model.compile(optimizer=optimizer, loss=\"MSE\")\n",
    "# train\n",
    "model.fit(x_train, y_train, epochs=100)"
   ]
  },
  {
   "cell_type": "code",
   "execution_count": 17,
   "metadata": {},
   "outputs": [
    {
     "name": "stdout",
     "output_type": "stream",
     "text": [
      "469/469 [==============================] - 1s 1ms/step - loss: 3.5945e-04\n"
     ]
    },
    {
     "data": {
      "text/plain": [
       "0.00035944627597928047"
      ]
     },
     "execution_count": 17,
     "metadata": {},
     "output_type": "execute_result"
    }
   ],
   "source": [
    "model.evaluate(x_test, y_test, verbose=1)"
   ]
  },
  {
   "cell_type": "code",
   "execution_count": 18,
   "metadata": {},
   "outputs": [
    {
     "name": "stdout",
     "output_type": "stream",
     "text": [
      "Data is : [0.1 0.2] \n",
      "Prediction is : [0.28516024] \n",
      "Data is : [0.2 0.2] \n",
      "Prediction is : [0.38590384] \n"
     ]
    }
   ],
   "source": [
    "data = np.array([[0.1, 0.2], [0.2, 0.2]])\n",
    "predictions = model.predict(data)\n",
    "for d, p in zip(data, predictions):\n",
    "    print(\"Data is : {} \".format(d))\n",
    "    print(\"Prediction is : {} \".format(p))"
   ]
  },
  {
   "cell_type": "code",
   "execution_count": null,
   "metadata": {},
   "outputs": [],
   "source": []
  }
 ],
 "metadata": {
  "kernelspec": {
   "display_name": "Python 3",
   "language": "python",
   "name": "python3"
  },
  "language_info": {
   "codemirror_mode": {
    "name": "ipython",
    "version": 3
   },
   "file_extension": ".py",
   "mimetype": "text/x-python",
   "name": "python",
   "nbconvert_exporter": "python",
   "pygments_lexer": "ipython3",
   "version": "3.6.12"
  }
 },
 "nbformat": 4,
 "nbformat_minor": 4
}

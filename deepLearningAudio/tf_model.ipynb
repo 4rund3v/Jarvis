{
 "cells": [
  {
   "cell_type": "code",
   "execution_count": 1,
   "metadata": {},
   "outputs": [
    {
     "name": "stderr",
     "output_type": "stream",
     "text": [
      "/home/arun/Jarvis/.venv/lib/python3.6/site-packages/pandas/compat/__init__.py:117: UserWarning: Could not import the lzma module. Your installed Python is incomplete. Attempting to use lzma compression will result in a RuntimeError.\n",
      "  warnings.warn(msg)\n"
     ]
    }
   ],
   "source": [
    "## To build a model in tensorflow\n",
    "from random import random \n",
    "import numpy as np\n",
    "from sklearn.model_selection import train_test_split \n",
    "import tensorflow as tf\n",
    "\n",
    "def generate_dataset(num_samples, test_size):    \n",
    "    x = np.array([[random()/2 for _ in range(2)] for _ in range(num_samples) ])\n",
    "    y = np.array([[i[0] + i[1]] for i in x])\n",
    "    x_train, x_test, y_train, y_test = train_test_split(x, y, test_size=test_size)\n",
    "    return x_train, x_test, y_train, y_test"
   ]
  },
  {
   "cell_type": "code",
   "execution_count": 2,
   "metadata": {},
   "outputs": [
    {
     "name": "stdout",
     "output_type": "stream",
     "text": [
      "Training data shape inputs (70000, 2) -> outputs (70000, 1)\n",
      "Testing data shape  inputs (30000, 2) -> outputs (30000, 1)\n"
     ]
    }
   ],
   "source": [
    "x_train, x_test, y_train, y_test = generate_dataset(100000, 0.3)\n",
    "print(\"Training data shape inputs {} -> outputs {}\".format(x_train.shape, y_train.shape))\n",
    "print(\"Testing data shape  inputs {} -> outputs {}\".format(x_test.shape, y_test.shape))"
   ]
  },
  {
   "cell_type": "code",
   "execution_count": 3,
   "metadata": {},
   "outputs": [
    {
     "name": "stdout",
     "output_type": "stream",
     "text": [
      "Epoch 1/100\n",
      "2188/2188 [==============================] - 3s 1ms/step - loss: 0.0452\n",
      "Epoch 2/100\n",
      "2188/2188 [==============================] - 3s 1ms/step - loss: 0.0414\n",
      "Epoch 3/100\n",
      "2188/2188 [==============================] - 3s 1ms/step - loss: 0.0384\n",
      "Epoch 4/100\n",
      "2188/2188 [==============================] - 3s 1ms/step - loss: 0.0340\n",
      "Epoch 5/100\n",
      "2188/2188 [==============================] - 3s 1ms/step - loss: 0.0276\n",
      "Epoch 6/100\n",
      "2188/2188 [==============================] - 3s 1ms/step - loss: 0.0197\n",
      "Epoch 7/100\n",
      "2188/2188 [==============================] - 3s 1ms/step - loss: 0.0122\n",
      "Epoch 8/100\n",
      "2188/2188 [==============================] - 3s 1ms/step - loss: 0.0067\n",
      "Epoch 9/100\n",
      "2188/2188 [==============================] - 3s 1ms/step - loss: 0.0035\n",
      "Epoch 10/100\n",
      "2188/2188 [==============================] - 3s 1ms/step - loss: 0.0019\n",
      "Epoch 11/100\n",
      "2188/2188 [==============================] - 3s 1ms/step - loss: 0.0011\n",
      "Epoch 12/100\n",
      "2188/2188 [==============================] - 3s 1ms/step - loss: 7.0711e-04\n",
      "Epoch 13/100\n",
      "2188/2188 [==============================] - 3s 1ms/step - loss: 5.2832e-04\n",
      "Epoch 14/100\n",
      "2188/2188 [==============================] - 3s 1ms/step - loss: 4.4427e-04\n",
      "Epoch 15/100\n",
      "2188/2188 [==============================] - 3s 1ms/step - loss: 4.0464e-04\n",
      "Epoch 16/100\n",
      "2188/2188 [==============================] - 3s 1ms/step - loss: 3.8585e-04\n",
      "Epoch 17/100\n",
      "2188/2188 [==============================] - 3s 1ms/step - loss: 3.7681e-04\n",
      "Epoch 18/100\n",
      "2188/2188 [==============================] - 3s 1ms/step - loss: 3.7232e-04\n",
      "Epoch 19/100\n",
      "2188/2188 [==============================] - 3s 1ms/step - loss: 3.6998e-04\n",
      "Epoch 20/100\n",
      "2188/2188 [==============================] - 3s 1ms/step - loss: 3.6864e-04\n",
      "Epoch 21/100\n",
      "2188/2188 [==============================] - 3s 1ms/step - loss: 3.6780e-04\n",
      "Epoch 22/100\n",
      "2188/2188 [==============================] - 3s 1ms/step - loss: 3.6718e-04\n",
      "Epoch 23/100\n",
      "2188/2188 [==============================] - 3s 1ms/step - loss: 3.6666e-04\n",
      "Epoch 24/100\n",
      "2188/2188 [==============================] - 3s 1ms/step - loss: 3.6622e-04\n",
      "Epoch 25/100\n",
      "2188/2188 [==============================] - 3s 1ms/step - loss: 3.6579e-04\n",
      "Epoch 26/100\n",
      "2188/2188 [==============================] - 3s 1ms/step - loss: 3.6540e-04\n",
      "Epoch 27/100\n",
      "2188/2188 [==============================] - 3s 1ms/step - loss: 3.6502e-04\n",
      "Epoch 28/100\n",
      "2188/2188 [==============================] - 3s 1ms/step - loss: 3.6462e-04\n",
      "Epoch 29/100\n",
      "2188/2188 [==============================] - 3s 1ms/step - loss: 3.6428e-04\n",
      "Epoch 30/100\n",
      "2188/2188 [==============================] - 3s 1ms/step - loss: 3.6393e-04\n",
      "Epoch 31/100\n",
      "2188/2188 [==============================] - 3s 1ms/step - loss: 3.6357e-04\n",
      "Epoch 32/100\n",
      "2188/2188 [==============================] - 3s 1ms/step - loss: 3.6321e-04\n",
      "Epoch 33/100\n",
      "2188/2188 [==============================] - 3s 1ms/step - loss: 3.6287e-04\n",
      "Epoch 34/100\n",
      "2188/2188 [==============================] - 3s 1ms/step - loss: 3.6257e-04\n",
      "Epoch 35/100\n",
      "2188/2188 [==============================] - 3s 1ms/step - loss: 3.6224e-04\n",
      "Epoch 36/100\n",
      "2188/2188 [==============================] - 3s 1ms/step - loss: 3.6193e-04\n",
      "Epoch 37/100\n",
      "2188/2188 [==============================] - 3s 1ms/step - loss: 3.6160e-04\n",
      "Epoch 38/100\n",
      "2188/2188 [==============================] - 3s 1ms/step - loss: 3.6130e-04\n",
      "Epoch 39/100\n",
      "2188/2188 [==============================] - 3s 1ms/step - loss: 3.6103e-04\n",
      "Epoch 40/100\n",
      "2188/2188 [==============================] - 3s 1ms/step - loss: 3.6071e-04\n",
      "Epoch 41/100\n",
      "2188/2188 [==============================] - 3s 1ms/step - loss: 3.6045e-04\n",
      "Epoch 42/100\n",
      "2188/2188 [==============================] - 3s 1ms/step - loss: 3.6015e-04\n",
      "Epoch 43/100\n",
      "2188/2188 [==============================] - 3s 1ms/step - loss: 3.5987e-04\n",
      "Epoch 44/100\n",
      "2188/2188 [==============================] - 3s 1ms/step - loss: 3.5961e-04\n",
      "Epoch 45/100\n",
      "2188/2188 [==============================] - 3s 1ms/step - loss: 3.5932e-04\n",
      "Epoch 46/100\n",
      "2188/2188 [==============================] - 3s 1ms/step - loss: 3.5908e-04\n",
      "Epoch 47/100\n",
      "2188/2188 [==============================] - 3s 1ms/step - loss: 3.5882e-04\n",
      "Epoch 48/100\n",
      "2188/2188 [==============================] - 3s 1ms/step - loss: 3.5859e-04\n",
      "Epoch 49/100\n",
      "2188/2188 [==============================] - 3s 1ms/step - loss: 3.5833e-04\n",
      "Epoch 50/100\n",
      "2188/2188 [==============================] - 3s 1ms/step - loss: 3.5806e-04\n",
      "Epoch 51/100\n",
      "2188/2188 [==============================] - 3s 1ms/step - loss: 3.5787e-04\n",
      "Epoch 52/100\n",
      "2188/2188 [==============================] - 3s 1ms/step - loss: 3.5763e-04\n",
      "Epoch 53/100\n",
      "2188/2188 [==============================] - 3s 1ms/step - loss: 3.5741e-04\n",
      "Epoch 54/100\n",
      "2188/2188 [==============================] - 3s 1ms/step - loss: 3.5716e-04\n",
      "Epoch 55/100\n",
      "2188/2188 [==============================] - 3s 1ms/step - loss: 3.5695e-04\n",
      "Epoch 56/100\n",
      "2188/2188 [==============================] - 3s 1ms/step - loss: 3.5673e-04\n",
      "Epoch 57/100\n",
      "2188/2188 [==============================] - 3s 1ms/step - loss: 3.5652e-04\n",
      "Epoch 58/100\n",
      "2188/2188 [==============================] - 3s 1ms/step - loss: 3.5628e-04\n",
      "Epoch 59/100\n",
      "2188/2188 [==============================] - 3s 1ms/step - loss: 3.5608e-04\n",
      "Epoch 60/100\n",
      "2188/2188 [==============================] - 3s 1ms/step - loss: 3.5584e-04\n",
      "Epoch 61/100\n",
      "2188/2188 [==============================] - 3s 1ms/step - loss: 3.5566e-04\n",
      "Epoch 62/100\n",
      "2188/2188 [==============================] - 3s 1ms/step - loss: 3.5546e-04\n",
      "Epoch 63/100\n",
      "2188/2188 [==============================] - 3s 1ms/step - loss: 3.5528e-04\n",
      "Epoch 64/100\n",
      "2188/2188 [==============================] - 3s 1ms/step - loss: 3.5506e-04\n",
      "Epoch 65/100\n",
      "2188/2188 [==============================] - 3s 1ms/step - loss: 3.5486e-04\n",
      "Epoch 66/100\n",
      "2188/2188 [==============================] - 3s 1ms/step - loss: 3.5470e-04\n",
      "Epoch 67/100\n",
      "2188/2188 [==============================] - 3s 1ms/step - loss: 3.5450e-04\n",
      "Epoch 68/100\n",
      "2188/2188 [==============================] - 3s 1ms/step - loss: 3.5432e-04\n",
      "Epoch 69/100\n",
      "2188/2188 [==============================] - 3s 1ms/step - loss: 3.5415e-04\n",
      "Epoch 70/100\n",
      "2188/2188 [==============================] - 3s 1ms/step - loss: 3.5398e-04\n",
      "Epoch 71/100\n",
      "2188/2188 [==============================] - 3s 1ms/step - loss: 3.5378e-04\n",
      "Epoch 72/100\n",
      "2188/2188 [==============================] - 3s 1ms/step - loss: 3.5360e-04\n",
      "Epoch 73/100\n",
      "2188/2188 [==============================] - 3s 1ms/step - loss: 3.5344e-04\n",
      "Epoch 74/100\n",
      "2188/2188 [==============================] - 3s 1ms/step - loss: 3.5327e-04\n",
      "Epoch 75/100\n",
      "2188/2188 [==============================] - 3s 1ms/step - loss: 3.5309e-04\n",
      "Epoch 76/100\n",
      "2188/2188 [==============================] - 3s 1ms/step - loss: 3.5291e-04\n",
      "Epoch 77/100\n",
      "2188/2188 [==============================] - 3s 1ms/step - loss: 3.5278e-04\n",
      "Epoch 78/100\n",
      "2188/2188 [==============================] - 3s 1ms/step - loss: 3.5260e-04\n",
      "Epoch 79/100\n",
      "2188/2188 [==============================] - 3s 1ms/step - loss: 3.5243e-04\n",
      "Epoch 80/100\n",
      "2188/2188 [==============================] - 3s 1ms/step - loss: 3.5227e-04\n",
      "Epoch 81/100\n",
      "2188/2188 [==============================] - 3s 1ms/step - loss: 3.5212e-04\n",
      "Epoch 82/100\n",
      "2188/2188 [==============================] - 3s 1ms/step - loss: 3.5195e-04\n",
      "Epoch 83/100\n",
      "2188/2188 [==============================] - 3s 1ms/step - loss: 3.5180e-04\n",
      "Epoch 84/100\n",
      "2188/2188 [==============================] - 3s 1ms/step - loss: 3.5167e-04\n",
      "Epoch 85/100\n",
      "2188/2188 [==============================] - 3s 1ms/step - loss: 3.5150e-04\n",
      "Epoch 86/100\n",
      "2188/2188 [==============================] - 3s 1ms/step - loss: 3.5134e-04\n",
      "Epoch 87/100\n",
      "2188/2188 [==============================] - 3s 1ms/step - loss: 3.5119e-04\n",
      "Epoch 88/100\n",
      "2188/2188 [==============================] - 3s 1ms/step - loss: 3.5103e-04\n",
      "Epoch 89/100\n",
      "2188/2188 [==============================] - 3s 1ms/step - loss: 3.5088e-04\n",
      "Epoch 90/100\n",
      "2188/2188 [==============================] - 3s 1ms/step - loss: 3.5076e-04\n",
      "Epoch 91/100\n",
      "2188/2188 [==============================] - 3s 1ms/step - loss: 3.5061e-04\n",
      "Epoch 92/100\n",
      "2188/2188 [==============================] - 3s 1ms/step - loss: 3.5047e-04\n",
      "Epoch 93/100\n",
      "2188/2188 [==============================] - 3s 1ms/step - loss: 3.5031e-04\n",
      "Epoch 94/100\n",
      "2188/2188 [==============================] - 3s 1ms/step - loss: 3.5017e-04\n",
      "Epoch 95/100\n",
      "2188/2188 [==============================] - 3s 1ms/step - loss: 3.5003e-04\n",
      "Epoch 96/100\n",
      "2188/2188 [==============================] - 3s 1ms/step - loss: 3.4992e-04\n",
      "Epoch 97/100\n",
      "2188/2188 [==============================] - 3s 1ms/step - loss: 3.4978e-04\n",
      "Epoch 98/100\n",
      "2188/2188 [==============================] - 3s 1ms/step - loss: 3.4966e-04\n",
      "Epoch 99/100\n",
      "2188/2188 [==============================] - 3s 1ms/step - loss: 3.4948e-04\n",
      "Epoch 100/100\n",
      "2188/2188 [==============================] - 3s 1ms/step - loss: 3.4937e-04\n"
     ]
    },
    {
     "data": {
      "text/plain": [
       "<tensorflow.python.keras.callbacks.History at 0x7f580d5bdef0>"
      ]
     },
     "execution_count": 3,
     "metadata": {},
     "output_type": "execute_result"
    }
   ],
   "source": [
    "# Keras is a high level library\n",
    "# Sequential - sequential network, where the input is moving from left to right\n",
    "# Dense -  A fully connected layer, all neurons are fully connected\n",
    "# \n",
    "# MLP model : 2 -> 5 -> 1\n",
    "model = tf.keras.Sequential([\n",
    "        tf.keras.layers.Dense(5, input_dim=2, activation=\"sigmoid\"),\n",
    "        tf.keras.layers.Dense(1,  activation=\"sigmoid\") ])\n",
    "optimizer = tf.keras.optimizers.SGD(learning_rate=0.05)\n",
    "model.compile(optimizer=optimizer, loss=\"MSE\")\n",
    "# train\n",
    "model.fit(x_train, y_train, epochs=100)"
   ]
  },
  {
   "cell_type": "code",
   "execution_count": 5,
   "metadata": {},
   "outputs": [
    {
     "name": "stdout",
     "output_type": "stream",
     "text": [
      "938/938 [==============================] - 1s 1ms/step - loss: 3.5287e-04\n"
     ]
    },
    {
     "data": {
      "text/plain": [
       "0.00035287297214381397"
      ]
     },
     "execution_count": 5,
     "metadata": {},
     "output_type": "execute_result"
    }
   ],
   "source": [
    "model.evaluate(x_test, y_test, verbose=1)"
   ]
  },
  {
   "cell_type": "code",
   "execution_count": 6,
   "metadata": {},
   "outputs": [
    {
     "name": "stdout",
     "output_type": "stream",
     "text": [
      "Data is : [0.1 0.2] \n",
      "Prediction is : [0.28578243] \n",
      "Data is : [0.2 0.2] \n",
      "Prediction is : [0.38670045] \n"
     ]
    }
   ],
   "source": [
    "data = np.array([[0.1, 0.2], [0.2, 0.2]])\n",
    "predictions = model.predict(data)\n",
    "for d, p in zip(data, predictions):\n",
    "    print(\"Data is : {} \".format(d))\n",
    "    print(\"Prediction is : {} \".format(p))"
   ]
  },
  {
   "cell_type": "code",
   "execution_count": null,
   "metadata": {},
   "outputs": [],
   "source": []
  }
 ],
 "metadata": {
  "kernelspec": {
   "display_name": "Python 3",
   "language": "python",
   "name": "python3"
  },
  "language_info": {
   "codemirror_mode": {
    "name": "ipython",
    "version": 3
   },
   "file_extension": ".py",
   "mimetype": "text/x-python",
   "name": "python",
   "nbconvert_exporter": "python",
   "pygments_lexer": "ipython3",
   "version": "3.6.12"
  }
 },
 "nbformat": 4,
 "nbformat_minor": 4
}
